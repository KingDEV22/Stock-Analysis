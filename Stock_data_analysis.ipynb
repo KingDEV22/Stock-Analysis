{
  "cells": [
    {
      "cell_type": "code",
      "execution_count": null,
      "metadata": {},
      "outputs": [],
      "source": [
        "# # python -m spacy download en_core_web_sm\n",
        "# pd.set_option('display.max_column', None)\n",
        "# pd.set_option('display.max_rows', None)\n",
        "# pd.set_option('display.max_seq_items', None)\n",
        "# pd.set_option('display.max_colwidth', 500)\n",
        "# pd.set_option('expand_frame_repr', True)"
      ]
    },
    {
      "cell_type": "code",
      "execution_count": 3,
      "metadata": {
        "colab": {
          "base_uri": "https://localhost:8080/"
        },
        "id": "3t4O5VxjFDkO",
        "outputId": "ccdc3d09-3971-43d8-8ca3-c5bb72716465"
      },
      "outputs": [
        {
          "data": {
            "text/html": [
              "<div>\n",
              "<style scoped>\n",
              "    .dataframe tbody tr th:only-of-type {\n",
              "        vertical-align: middle;\n",
              "    }\n",
              "\n",
              "    .dataframe tbody tr th {\n",
              "        vertical-align: top;\n",
              "    }\n",
              "\n",
              "    .dataframe thead th {\n",
              "        text-align: right;\n",
              "    }\n",
              "</style>\n",
              "<table border=\"1\" class=\"dataframe\">\n",
              "  <thead>\n",
              "    <tr style=\"text-align: right;\">\n",
              "      <th></th>\n",
              "      <th>Company_Name</th>\n",
              "      <th>Company_Symbol</th>\n",
              "      <th>Company_sentiment</th>\n",
              "      <th>Overal_day_Sentiment</th>\n",
              "      <th>Result</th>\n",
              "    </tr>\n",
              "  </thead>\n",
              "  <tbody>\n",
              "    <tr>\n",
              "      <th>0</th>\n",
              "      <td>Adani Enterprises Limited</td>\n",
              "      <td>ADANIENT</td>\n",
              "      <td>0.25</td>\n",
              "      <td>0.615385</td>\n",
              "      <td>0.432692</td>\n",
              "    </tr>\n",
              "    <tr>\n",
              "      <th>1</th>\n",
              "      <td>Apollo Hospitals Enterprise Limited</td>\n",
              "      <td>APOLLOHOSP</td>\n",
              "      <td>1.00</td>\n",
              "      <td>0.615385</td>\n",
              "      <td>0.807692</td>\n",
              "    </tr>\n",
              "    <tr>\n",
              "      <th>2</th>\n",
              "      <td>Bajaj Finance Limited</td>\n",
              "      <td>BAJFINANCE</td>\n",
              "      <td>1.00</td>\n",
              "      <td>0.615385</td>\n",
              "      <td>0.807692</td>\n",
              "    </tr>\n",
              "    <tr>\n",
              "      <th>3</th>\n",
              "      <td>Laurus Labs Limited</td>\n",
              "      <td>LAURUSLABS</td>\n",
              "      <td>1.00</td>\n",
              "      <td>0.615385</td>\n",
              "      <td>0.807692</td>\n",
              "    </tr>\n",
              "    <tr>\n",
              "      <th>4</th>\n",
              "      <td>Tata Consultancy Services Limited</td>\n",
              "      <td>TCS</td>\n",
              "      <td>1.00</td>\n",
              "      <td>0.615385</td>\n",
              "      <td>0.807692</td>\n",
              "    </tr>\n",
              "  </tbody>\n",
              "</table>\n",
              "</div>"
            ],
            "text/plain": [
              "                          Company_Name Company_Symbol  Company_sentiment   \n",
              "0            Adani Enterprises Limited       ADANIENT               0.25  \\\n",
              "1  Apollo Hospitals Enterprise Limited     APOLLOHOSP               1.00   \n",
              "2                Bajaj Finance Limited     BAJFINANCE               1.00   \n",
              "3                  Laurus Labs Limited     LAURUSLABS               1.00   \n",
              "4    Tata Consultancy Services Limited            TCS               1.00   \n",
              "\n",
              "   Overal_day_Sentiment    Result  \n",
              "0              0.615385  0.432692  \n",
              "1              0.615385  0.807692  \n",
              "2              0.615385  0.807692  \n",
              "3              0.615385  0.807692  \n",
              "4              0.615385  0.807692  "
            ]
          },
          "execution_count": 3,
          "metadata": {},
          "output_type": "execute_result"
        }
      ],
      "source": [
        "import pandas as pd\n",
        "import numpy as np\n",
        "import datetime\n",
        "from datetime import datetime\n",
        "\n",
        "df = pd.read_csv('stock_data.csv')\n",
        "df['Text'] = df['Text'].astype(str)\n",
        "df['Date'] = pd.to_datetime(df['Date']).dt.date\n",
        "df['Sentiment'] = df['Sentiment'].astype(np.int64)\n",
        "df.sort_values(by='Date',inplace=True)\n",
        "\n",
        "company = pd.read_csv('company.csv')\n",
        "check2 = company['Symbol'].apply(str).tolist()\n",
        "check1 = company['Company Name'].apply(str).tolist()\n",
        "check3 = company['Company Name'].apply(str).apply(lambda x: (x.split()[0]).lower()).tolist()\n",
        "\n",
        "# current_date = datetime.date.today()\n",
        "# start_date = current_date - datetime.timedelta(days=1)\n",
        "\n",
        "date_string = \"2023-06-01\"\n",
        "start_date = datetime.strptime(date_string, \"%Y-%m-%d\").date()\n",
        "test_data = df[(df['Date']==start_date)]\n",
        "test_data.loc[test_data['Sentiment'] == 2, 'Sentiment'] = -1\n",
        "overall_mean =test_data[test_data['Company'].str.contains('')==True]['Sentiment'].mean()\n",
        "company_count=test_data['Company'].value_counts()\n",
        "top_5_companies = company_count.head(5).index\n",
        "test_data = test_data[test_data['Company'].isin(top_5_companies)]\n",
        "company_count = test_data.groupby('Company')['Sentiment'].mean()\n",
        "company_name = company_count.index.tolist()\n",
        "company_sentiment = company_count.values.tolist()\n",
        "result = pd.DataFrame({\"Company_Name\":company_name,\"Company_Symbol\":company_name,\"Company_sentiment\":company_sentiment,\"Overal_day_Sentiment\":[overall_mean]*5,\"Result\":overall_mean})\n",
        "def get_company_name(text):\n",
        "    if text in check3:\n",
        "        return check1[check3.index(text)]\n",
        "\n",
        "    elif text in check2:\n",
        "         return check1[check2.index(text)]\n",
        "\n",
        "def get_company_symbol(text):\n",
        "    if text in check1:\n",
        "        return (check2[check1.index(text)])\n",
        "\n",
        "result['Company_Name'] = result['Company_Name'].apply(get_company_name)\n",
        "result['Company_Symbol'] = result['Company_Name'].apply(get_company_symbol)\n",
        "result['Result'] = np.mean(result[['Company_sentiment','Overal_day_Sentiment']],axis=1)\n",
        "result"
      ]
    },
    {
      "cell_type": "code",
      "execution_count": 22,
      "metadata": {},
      "outputs": [
        {
          "name": "stdout",
          "output_type": "stream",
          "text": [
            "[*********************100%***********************]  1 of 1 completed\n",
            "Train data MSE:  7306168.382101518\n",
            "Test data MSE:  2856887.6188360746\n",
            "Train data R2:  -36.18162672506455\n",
            "Test data R2:  -0.6317290930683279\n"
          ]
        }
      ],
      "source": [
        "import yfinance as yf\n",
        "from sklearn.model_selection import train_test_split\n",
        "from sklearn.svm import SVR\n",
        "from sklearn.preprocessing import StandardScaler\n",
        "import math\n",
        "import datetime as dt\n",
        "from sklearn.metrics import mean_squared_error, mean_absolute_error, explained_variance_score, r2_score \n",
        "\n",
        "# Retrieve Adani Group's stock data from Yahoo Finance\n",
        "adani_stock = yf.download(\"APOLLOHOSP.NS\", start=\"2005-01-01\", end=\"2023-06-01\")\n",
        "\n",
        "# Preprocess the data\n",
        "adani_stock['Date'] = adani_stock.index\n",
        "adani_stock['Date'] = adani_stock['Date'].astype(str)\n",
        "adani_stock = adani_stock[['Date', 'Close']]\n",
        "adani_stock.reset_index(drop=True, inplace=True)\n",
        "\n",
        "# Split the data into train and test sets\n",
        "train_data, test_data = train_test_split(adani_stock, test_size=0.2, shuffle=False)\n",
        "\n",
        "# Preprocess the features\n",
        "scaler = StandardScaler()\n",
        "train_features = scaler.fit_transform(train_data.index.values.reshape(-1, 1))\n",
        "test_features = scaler.transform(test_data.index.values.reshape(-1, 1))\n",
        "\n",
        "# Preprocess the target variable\n",
        "scaler_y = StandardScaler()\n",
        "train_target = scaler_y.fit_transform(train_data['Close'].values.reshape(-1, 1))\n",
        "test_target = scaler_y.fit_transform(test_data['Close'].values.reshape(-1, 1))\n",
        "\n",
        "# Train the Support Vector Machine (SVM) regression model\n",
        "svm_model = SVR(kernel='rbf', C=1e2, gamma=0.1)\n",
        "svm_model.fit(train_features, train_target.ravel())\n",
        "\n",
        "# Predict the stock prices for train and test data\n",
        "train_predicted_prices = svm_model.predict(train_features)\n",
        "test_predicted_prices = svm_model.predict(test_features)\n",
        "\n",
        "# Inverse transform the predicted prices\n",
        "train_predicted_prices = scaler_y.inverse_transform(train_predicted_prices.reshape(-1, 1))\n",
        "test_predicted_prices = scaler_y.inverse_transform(test_predicted_prices.reshape(-1, 1))\n",
        "\n",
        "# Calculate MSE and R2 scores for train and test data\n",
        "train_mse = mean_squared_error(train_data['Close'], train_predicted_prices)\n",
        "test_mse = mean_squared_error(test_data['Close'], test_predicted_prices)\n",
        "\n",
        "train_r2 = r2_score(train_data['Close'], train_predicted_prices)\n",
        "test_r2 = r2_score(test_data['Close'], test_predicted_prices)\n",
        "\n",
        "print(\"Train data MSE: \", train_mse)\n",
        "print(\"Test data MSE: \", test_mse)\n",
        "print(\"Train data R2: \", train_r2)\n",
        "print(\"Test data R2: \", test_r2)\n"
      ]
    },
    {
      "cell_type": "code",
      "execution_count": 17,
      "metadata": {},
      "outputs": [
        {
          "name": "stdout",
          "output_type": "stream",
          "text": [
            "Test data explained variance regression score: -3.5575289939683055\n"
          ]
        }
      ],
      "source": [
        "print(\"Test data explained variance regression score:\", explained_variance_score(scaler_y.inverse_transform(test_target.reshape(-1, 1)), predicted_prices))"
      ]
    },
    {
      "cell_type": "code",
      "execution_count": 18,
      "metadata": {},
      "outputs": [
        {
          "name": "stdout",
          "output_type": "stream",
          "text": [
            "Test data R2 score: -10.97293250935929\n"
          ]
        }
      ],
      "source": [
        "print(\"Test data R2 score:\", r2_score(scaler_y.inverse_transform(test_target.reshape(-1, 1)), predicted_prices))"
      ]
    },
    {
      "cell_type": "code",
      "execution_count": 12,
      "metadata": {},
      "outputs": [
        {
          "data": {
            "text/plain": [
              "array([   0,    1,    2, ..., 4153, 4154, 4155], dtype=int64)"
            ]
          },
          "execution_count": 12,
          "metadata": {},
          "output_type": "execute_result"
        }
      ],
      "source": [
        "train_data.index.values"
      ]
    },
    {
      "cell_type": "code",
      "execution_count": null,
      "metadata": {},
      "outputs": [],
      "source": []
    }
  ],
  "metadata": {
    "accelerator": "GPU",
    "colab": {
      "provenance": []
    },
    "gpuClass": "standard",
    "kernelspec": {
      "display_name": "Python 3",
      "name": "python3"
    },
    "language_info": {
      "codemirror_mode": {
        "name": "ipython",
        "version": 3
      },
      "file_extension": ".py",
      "mimetype": "text/x-python",
      "name": "python",
      "nbconvert_exporter": "python",
      "pygments_lexer": "ipython3",
      "version": "3.10.0"
    }
  },
  "nbformat": 4,
  "nbformat_minor": 0
}
