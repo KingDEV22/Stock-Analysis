{
 "cells": [
  {
   "cell_type": "code",
   "execution_count": 2,
   "metadata": {},
   "outputs": [],
   "source": [
    "import pandas as pd\n",
    "import os"
   ]
  },
  {
   "cell_type": "code",
   "execution_count": 2,
   "metadata": {},
   "outputs": [
    {
     "name": "stdout",
     "output_type": "stream",
     "text": [
      "{'he0': 0, 'he1': 1, 'he2': 2}\n"
     ]
    }
   ],
   "source": [
    "pupils_dictionary = {}\n",
    "\n",
    "for x in range(3):    \n",
    "    new_key = 'he'+str(x)\n",
    "    pupils_dictionary[new_key] = x\n",
    "print(pupils_dictionary)"
   ]
  },
  {
   "cell_type": "code",
   "execution_count": 12,
   "metadata": {},
   "outputs": [],
   "source": [
    "import numpy as np"
   ]
  },
  {
   "cell_type": "code",
   "execution_count": 3,
   "metadata": {},
   "outputs": [
    {
     "name": "stdout",
     "output_type": "stream",
     "text": [
      "bs.csv\n",
      "et_news.csv\n",
      "mint.csv\n",
      "NewsData-2023-02-19.csv\n",
      "NewsData-2023-02-20.csv\n",
      "NewsData-2023-02-21.csv\n",
      "NewsData-2023-02-22.csv\n",
      "NewsData-2023-02-23.csv\n",
      "NewsData-2023-02-24.csv\n",
      "NewsData-2023-02-25.csv\n",
      "NewsData-2023-02-26.csv\n"
     ]
    }
   ],
   "source": [
    "\n",
    "for file in os.listdir('./raw_news/'):\n",
    "    print(file)\n"
   ]
  },
  {
   "cell_type": "code",
   "execution_count": 18,
   "metadata": {},
   "outputs": [
    {
     "name": "stdout",
     "output_type": "stream",
     "text": [
      "March 05, 2023, Sunday\n",
      "<class 'str'>\n"
     ]
    },
    {
     "ename": "TypeError",
     "evalue": "descriptor 'strftime' for 'datetime.date' objects doesn't apply to a 'str' object",
     "output_type": "error",
     "traceback": [
      "\u001b[1;31m---------------------------------------------------------------------------\u001b[0m",
      "\u001b[1;31mTypeError\u001b[0m                                 Traceback (most recent call last)",
      "Cell \u001b[1;32mIn[18], line 14\u001b[0m\n\u001b[0;32m     12\u001b[0m \u001b[39mprint\u001b[39m(date_sto)\n\u001b[0;32m     13\u001b[0m \u001b[39mprint\u001b[39m(\u001b[39mtype\u001b[39m(date_sto))\n\u001b[1;32m---> 14\u001b[0m dat \u001b[39m=\u001b[39m datetime\u001b[39m.\u001b[39;49mstrftime(\u001b[39mstr\u001b[39;49m(date_sto),\u001b[39m'\u001b[39;49m\u001b[39m%\u001b[39;49m\u001b[39mB \u001b[39;49m\u001b[39m%d\u001b[39;49;00m\u001b[39m, \u001b[39;49m\u001b[39m%\u001b[39;49m\u001b[39mY, \u001b[39;49m\u001b[39m%\u001b[39;49m\u001b[39mA\u001b[39;49m\u001b[39m'\u001b[39;49m)\u001b[39m.\u001b[39mdate()\n\u001b[0;32m     15\u001b[0m \u001b[39mprint\u001b[39m(dat)\n\u001b[0;32m     16\u001b[0m \u001b[39mprint\u001b[39m(\u001b[39mtype\u001b[39m(dat))\n",
      "\u001b[1;31mTypeError\u001b[0m: descriptor 'strftime' for 'datetime.date' objects doesn't apply to a 'str' object"
     ]
    }
   ],
   "source": [
    "from datetime import datetime,date,timedelta\n",
    "# today = date.today() - timedelta(1)\n",
    "# today = str(today) + ' 09:00 PM'\n",
    "# stop_date = datetime.strptime(today, '%Y-%m-%d %I:%M %p')\n",
    "# print(stop_date)\n",
    "# t = datetime.now().date()\n",
    "# print(str(t.strftime('%B %d, %Y, %A')))\n",
    "\n",
    "date_stop = datetime.now().date()\n",
    "\n",
    "date_sto = date_stop.strftime('%B %d, %Y, %A')\n",
    "print(date_sto)\n",
    "print(type(date_sto))\n",
    "dat = datetime.strftime(str(date_sto),'%B %d, %Y, %A').date()\n",
    "print(dat)\n",
    "print(type(dat))"
   ]
  },
  {
   "cell_type": "code",
   "execution_count": 16,
   "metadata": {},
   "outputs": [
    {
     "data": {
      "text/plain": [
       "datetime.datetime(2023, 3, 5, 0, 0)"
      ]
     },
     "execution_count": 16,
     "metadata": {},
     "output_type": "execute_result"
    }
   ],
   "source": [
    "datetime.strptime(\"March 05, 2023, Sunday\", '%B %d, %Y, %A')"
   ]
  },
  {
   "cell_type": "code",
   "execution_count": 7,
   "metadata": {},
   "outputs": [
    {
     "name": "stdout",
     "output_type": "stream",
     "text": [
      "./raw_news/*.csv\n",
      "./raw_news/*.csv\n",
      "       Unnamed: 0                                           Headline  \\\n",
      "0               0  Sebi to control unsolicited fin market advise ...   \n",
      "1               1  Sebi pitches change in rules for REITs, InvITs...   \n",
      "2               2  Sri Lanka's body approves renewable energy pro...   \n",
      "3               3  Sebi likely to scrap small town-linked incenti...   \n",
      "4               4  Indices post biggest weekly decline since June...   \n",
      "...           ...                                                ...   \n",
      "31500          24  LIC's investment in Adani Group stocks now sta...   \n",
      "31501          25  PolicyBazaar hits over 5-month high; surges 30...   \n",
      "31502          26  Jindal Stainless (Hisar) fixes record date for...   \n",
      "31503          27  Mahindra Lifespace tumbles 8% after MD & CEO t...   \n",
      "31504          28  Siemens scaling new heights on strong performa...   \n",
      "\n",
      "                            Date  \n",
      "0      February 24, 2023, Friday  \n",
      "1      February 24, 2023, Friday  \n",
      "2      February 24, 2023, Friday  \n",
      "3      February 24, 2023, Friday  \n",
      "4      February 24, 2023, Friday  \n",
      "...                          ...  \n",
      "31500  February 24, 2023, Friday  \n",
      "31501  February 24, 2023, Friday  \n",
      "31502  February 24, 2023, Friday  \n",
      "31503  February 24, 2023, Friday  \n",
      "31504  February 24, 2023, Friday  \n",
      "\n",
      "[31505 rows x 3 columns]\n"
     ]
    }
   ],
   "source": [
    "# importing libraries\n",
    "import pandas as pd\n",
    "import glob\n",
    "import os\n",
    "\n",
    "# merging the files\n",
    "joined_files = os.path.join(\"./raw_news/\", \"*.csv\")\n",
    "print(joined_files)\n",
    "# A list of all joined files is returned\n",
    "joined_list = glob.glob(joined_files)\n",
    "print(joined_files)\n",
    "# Finally, the files are joined\n",
    "df = pd.concat(map(pd.read_csv, joined_list), ignore_index=True)\n",
    "print(df)\n"
   ]
  },
  {
   "cell_type": "code",
   "execution_count": 8,
   "metadata": {},
   "outputs": [
    {
     "data": {
      "text/html": [
       "<div>\n",
       "<style scoped>\n",
       "    .dataframe tbody tr th:only-of-type {\n",
       "        vertical-align: middle;\n",
       "    }\n",
       "\n",
       "    .dataframe tbody tr th {\n",
       "        vertical-align: top;\n",
       "    }\n",
       "\n",
       "    .dataframe thead th {\n",
       "        text-align: right;\n",
       "    }\n",
       "</style>\n",
       "<table border=\"1\" class=\"dataframe\">\n",
       "  <thead>\n",
       "    <tr style=\"text-align: right;\">\n",
       "      <th></th>\n",
       "      <th>Unnamed: 0</th>\n",
       "      <th>Headline</th>\n",
       "      <th>Date</th>\n",
       "    </tr>\n",
       "  </thead>\n",
       "  <tbody>\n",
       "    <tr>\n",
       "      <th>0</th>\n",
       "      <td>0</td>\n",
       "      <td>Sebi to control unsolicited fin market advise ...</td>\n",
       "      <td>February 24, 2023, Friday</td>\n",
       "    </tr>\n",
       "    <tr>\n",
       "      <th>1</th>\n",
       "      <td>1</td>\n",
       "      <td>Sebi pitches change in rules for REITs, InvITs...</td>\n",
       "      <td>February 24, 2023, Friday</td>\n",
       "    </tr>\n",
       "    <tr>\n",
       "      <th>2</th>\n",
       "      <td>2</td>\n",
       "      <td>Sri Lanka's body approves renewable energy pro...</td>\n",
       "      <td>February 24, 2023, Friday</td>\n",
       "    </tr>\n",
       "    <tr>\n",
       "      <th>3</th>\n",
       "      <td>3</td>\n",
       "      <td>Sebi likely to scrap small town-linked incenti...</td>\n",
       "      <td>February 24, 2023, Friday</td>\n",
       "    </tr>\n",
       "    <tr>\n",
       "      <th>4</th>\n",
       "      <td>4</td>\n",
       "      <td>Indices post biggest weekly decline since June...</td>\n",
       "      <td>February 24, 2023, Friday</td>\n",
       "    </tr>\n",
       "  </tbody>\n",
       "</table>\n",
       "</div>"
      ],
      "text/plain": [
       "   Unnamed: 0                                           Headline  \\\n",
       "0           0  Sebi to control unsolicited fin market advise ...   \n",
       "1           1  Sebi pitches change in rules for REITs, InvITs...   \n",
       "2           2  Sri Lanka's body approves renewable energy pro...   \n",
       "3           3  Sebi likely to scrap small town-linked incenti...   \n",
       "4           4  Indices post biggest weekly decline since June...   \n",
       "\n",
       "                        Date  \n",
       "0  February 24, 2023, Friday  \n",
       "1  February 24, 2023, Friday  \n",
       "2  February 24, 2023, Friday  \n",
       "3  February 24, 2023, Friday  \n",
       "4  February 24, 2023, Friday  "
      ]
     },
     "execution_count": 8,
     "metadata": {},
     "output_type": "execute_result"
    }
   ],
   "source": [
    "df.head()"
   ]
  },
  {
   "cell_type": "code",
   "execution_count": 11,
   "metadata": {},
   "outputs": [
    {
     "name": "stdout",
     "output_type": "stream",
     "text": [
      "<class 'pandas.core.frame.DataFrame'>\n",
      "RangeIndex: 31505 entries, 0 to 31504\n",
      "Data columns (total 2 columns):\n",
      " #   Column    Non-Null Count  Dtype \n",
      "---  ------    --------------  ----- \n",
      " 0   Headline  31505 non-null  object\n",
      " 1   Date      31505 non-null  object\n",
      "dtypes: object(2)\n",
      "memory usage: 492.4+ KB\n"
     ]
    }
   ],
   "source": [
    "df.info()"
   ]
  },
  {
   "cell_type": "code",
   "execution_count": 10,
   "metadata": {},
   "outputs": [],
   "source": [
    "df.drop(columns='Unnamed: 0', inplace=True)"
   ]
  },
  {
   "cell_type": "code",
   "execution_count": 13,
   "metadata": {},
   "outputs": [],
   "source": [
    "df['Sentiment'] = np.random.randint(0,1)"
   ]
  },
  {
   "cell_type": "code",
   "execution_count": 15,
   "metadata": {},
   "outputs": [
    {
     "data": {
      "text/html": [
       "<div>\n",
       "<style scoped>\n",
       "    .dataframe tbody tr th:only-of-type {\n",
       "        vertical-align: middle;\n",
       "    }\n",
       "\n",
       "    .dataframe tbody tr th {\n",
       "        vertical-align: top;\n",
       "    }\n",
       "\n",
       "    .dataframe thead th {\n",
       "        text-align: right;\n",
       "    }\n",
       "</style>\n",
       "<table border=\"1\" class=\"dataframe\">\n",
       "  <thead>\n",
       "    <tr style=\"text-align: right;\">\n",
       "      <th></th>\n",
       "      <th>Headline</th>\n",
       "      <th>Date</th>\n",
       "      <th>Sentiment</th>\n",
       "    </tr>\n",
       "  </thead>\n",
       "  <tbody>\n",
       "    <tr>\n",
       "      <th>0</th>\n",
       "      <td>Sebi to control unsolicited fin market advise ...</td>\n",
       "      <td>February 24, 2023, Friday</td>\n",
       "      <td>0</td>\n",
       "    </tr>\n",
       "    <tr>\n",
       "      <th>1</th>\n",
       "      <td>Sebi pitches change in rules for REITs, InvITs...</td>\n",
       "      <td>February 24, 2023, Friday</td>\n",
       "      <td>0</td>\n",
       "    </tr>\n",
       "    <tr>\n",
       "      <th>2</th>\n",
       "      <td>Sri Lanka's body approves renewable energy pro...</td>\n",
       "      <td>February 24, 2023, Friday</td>\n",
       "      <td>0</td>\n",
       "    </tr>\n",
       "    <tr>\n",
       "      <th>3</th>\n",
       "      <td>Sebi likely to scrap small town-linked incenti...</td>\n",
       "      <td>February 24, 2023, Friday</td>\n",
       "      <td>0</td>\n",
       "    </tr>\n",
       "    <tr>\n",
       "      <th>4</th>\n",
       "      <td>Indices post biggest weekly decline since June...</td>\n",
       "      <td>February 24, 2023, Friday</td>\n",
       "      <td>0</td>\n",
       "    </tr>\n",
       "  </tbody>\n",
       "</table>\n",
       "</div>"
      ],
      "text/plain": [
       "                                            Headline  \\\n",
       "0  Sebi to control unsolicited fin market advise ...   \n",
       "1  Sebi pitches change in rules for REITs, InvITs...   \n",
       "2  Sri Lanka's body approves renewable energy pro...   \n",
       "3  Sebi likely to scrap small town-linked incenti...   \n",
       "4  Indices post biggest weekly decline since June...   \n",
       "\n",
       "                        Date  Sentiment  \n",
       "0  February 24, 2023, Friday          0  \n",
       "1  February 24, 2023, Friday          0  \n",
       "2  February 24, 2023, Friday          0  \n",
       "3  February 24, 2023, Friday          0  \n",
       "4  February 24, 2023, Friday          0  "
      ]
     },
     "execution_count": 15,
     "metadata": {},
     "output_type": "execute_result"
    }
   ],
   "source": [
    "df.head()"
   ]
  },
  {
   "cell_type": "code",
   "execution_count": 17,
   "metadata": {},
   "outputs": [],
   "source": [
    "df.to_csv('./news/stock.csv')"
   ]
  },
  {
   "cell_type": "code",
   "execution_count": null,
   "metadata": {},
   "outputs": [],
   "source": [
    "import pandas as pd\n",
    "from transformers import AutoTokenizer\n",
    "\n",
    "data = pd.read_csv('stock_data.csv')\n",
    "tokenizer = AutoTokenizer.from_pretrained(\"bert-base-cased\")\n",
    "tokenized_data = tokenizer(dat[\"sentence\"], return_tensors=\"np\", padding=True)\n",
    "# Tokenizer returns a BatchEncoding, but we convert that to a dict for Keras\n",
    "tokenized_data = dict(tokenized_data)\n",
    "\n",
    "labels = np.array(dataset[\"label\"]"
   ]
  }
 ],
 "metadata": {
  "kernelspec": {
   "display_name": "base",
   "language": "python",
   "name": "python3"
  },
  "language_info": {
   "codemirror_mode": {
    "name": "ipython",
    "version": 3
   },
   "file_extension": ".py",
   "mimetype": "text/x-python",
   "name": "python",
   "nbconvert_exporter": "python",
   "pygments_lexer": "ipython3",
   "version": "3.10.0"
  },
  "orig_nbformat": 4,
  "vscode": {
   "interpreter": {
    "hash": "2572ca2aab7f2473fba50684e7980853e48f886eb6611acebd0d880cf59cd0f7"
   }
  }
 },
 "nbformat": 4,
 "nbformat_minor": 2
}
